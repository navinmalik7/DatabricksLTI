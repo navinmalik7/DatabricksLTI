{
 "cells": [
  {
   "cell_type": "markdown",
   "metadata": {
    "application/vnd.databricks.v1+cell": {
     "cellMetadata": {},
     "inputWidgets": {},
     "nuid": "b0acb10e-b913-46d5-8726-55dceeeca110",
     "showTitle": false,
     "tableResultSettingsMap": {},
     "title": ""
    }
   },
   "source": [
    "### Calling common notebook to re-use variables"
   ]
  },
  {
   "cell_type": "code",
   "execution_count": 0,
   "metadata": {
    "application/vnd.databricks.v1+cell": {
     "cellMetadata": {
      "byteLimit": 2048000,
      "rowLimit": 10000
     },
     "inputWidgets": {},
     "nuid": "4efe621e-e6a8-4f12-864d-66d4643b3260",
     "showTitle": false,
     "tableResultSettingsMap": {},
     "title": ""
    }
   },
   "outputs": [],
   "source": [
    "%run \"/Workspace/Users/navinmalik7@hotmail.com/DatabricksLTI/04_CommonFunctions\""
   ]
  },
  {
   "cell_type": "code",
   "execution_count": 0,
   "metadata": {
    "application/vnd.databricks.v1+cell": {
     "cellMetadata": {
      "byteLimit": 2048000,
      "rowLimit": 10000
     },
     "inputWidgets": {},
     "nuid": "ef3e832d-c5ec-4c45-af31-997cacbb40e4",
     "showTitle": false,
     "tableResultSettingsMap": {},
     "title": ""
    }
   },
   "outputs": [],
   "source": [
    "dbutils.widgets.text(name=\"env\",defaultValue='',label='Enter the environment in lower case')\n",
    "env = dbutils.widgets.get(\"env\")"
   ]
  },
  {
   "cell_type": "markdown",
   "metadata": {
    "application/vnd.databricks.v1+cell": {
     "cellMetadata": {},
     "inputWidgets": {},
     "nuid": "0aa332e0-3c0a-4a2c-805c-e3f5407d84b4",
     "showTitle": false,
     "tableResultSettingsMap": {},
     "title": ""
    }
   },
   "source": [
    "### Read Silver_Traffic table"
   ]
  },
  {
   "cell_type": "code",
   "execution_count": 0,
   "metadata": {
    "application/vnd.databricks.v1+cell": {
     "cellMetadata": {
      "byteLimit": 2048000,
      "rowLimit": 10000
     },
     "inputWidgets": {},
     "nuid": "6b7add56-8dad-402c-8e2d-56c041c0fcfb",
     "showTitle": false,
     "tableResultSettingsMap": {},
     "title": ""
    }
   },
   "outputs": [],
   "source": [
    "def read_SilverTrafficTable(environment):\n",
    "    print('Reading the Silver Traffic Table Data : ',end='')\n",
    "    df_SilverTraffic = (spark.readStream\n",
    "                    .table(f\"`{environment}-catalog`.`silver`.silver_traffic\")\n",
    "                    )\n",
    "    print(f'Reading {environment}-catalog.silver.silver_traffic Success!')\n",
    "    print(\"**********************************\")\n",
    "    return df_SilverTraffic"
   ]
  },
  {
   "cell_type": "markdown",
   "metadata": {
    "application/vnd.databricks.v1+cell": {
     "cellMetadata": {},
     "inputWidgets": {},
     "nuid": "54a58174-cf5b-4b80-b7bc-a3a952ecd0b2",
     "showTitle": false,
     "tableResultSettingsMap": {},
     "title": ""
    }
   },
   "source": [
    "### Read silver_roads Table"
   ]
  },
  {
   "cell_type": "code",
   "execution_count": 0,
   "metadata": {
    "application/vnd.databricks.v1+cell": {
     "cellMetadata": {
      "byteLimit": 2048000,
      "rowLimit": 10000
     },
     "inputWidgets": {},
     "nuid": "4cd18b2a-8a7e-41d0-83ed-b5296eb3db7e",
     "showTitle": false,
     "tableResultSettingsMap": {},
     "title": ""
    }
   },
   "outputs": [],
   "source": [
    "def read_SilverRoadsTable(environment):\n",
    "    print('Reading the Silver Table Silver_roads Data : ',end='')\n",
    "    df_SilverRoads = (spark.readStream\n",
    "                    .table(f\"`{environment}-catalog`.`silver`.silver_roads\")\n",
    "                    )\n",
    "    print(f'Reading {environment}-catalog.silver.silver_roads Success!')\n",
    "    print(\"**********************************\")\n",
    "    return df_SilverRoads"
   ]
  },
  {
   "cell_type": "markdown",
   "metadata": {
    "application/vnd.databricks.v1+cell": {
     "cellMetadata": {},
     "inputWidgets": {},
     "nuid": "e78b1be4-889d-4bcd-9842-98802ea94b80",
     "showTitle": false,
     "tableResultSettingsMap": {},
     "title": ""
    }
   },
   "source": [
    "## Creating vehicle Intensity Column"
   ]
  },
  {
   "cell_type": "code",
   "execution_count": 0,
   "metadata": {
    "application/vnd.databricks.v1+cell": {
     "cellMetadata": {
      "byteLimit": 2048000,
      "rowLimit": 10000
     },
     "inputWidgets": {},
     "nuid": "238fd5df-3312-47b7-9806-61050baecbec",
     "showTitle": false,
     "tableResultSettingsMap": {},
     "title": ""
    }
   },
   "outputs": [],
   "source": [
    "def create_VehicleIntensity(df):\n",
    " from pyspark.sql.functions import col\n",
    " print('Creating Vehicle Intensity column : ',end='')\n",
    " df_veh = df.withColumn('Vehicle_Intensity',\n",
    "               col('Motor_Vehicles_Count') / col('Link_length_km')\n",
    "               )\n",
    " print(\"Success!!!\")\n",
    " print('***************')\n",
    " return df_veh"
   ]
  },
  {
   "cell_type": "markdown",
   "metadata": {
    "application/vnd.databricks.v1+cell": {
     "cellMetadata": {},
     "inputWidgets": {},
     "nuid": "6699bf50-0f87-4a7f-82dd-565f8692692e",
     "showTitle": false,
     "tableResultSettingsMap": {},
     "title": ""
    }
   },
   "source": [
    "#### Creating LoadTime column"
   ]
  },
  {
   "cell_type": "code",
   "execution_count": 0,
   "metadata": {
    "application/vnd.databricks.v1+cell": {
     "cellMetadata": {
      "byteLimit": 2048000,
      "rowLimit": 10000
     },
     "inputWidgets": {},
     "nuid": "d61134d9-e099-4f46-ac14-b02da02fd582",
     "showTitle": false,
     "tableResultSettingsMap": {},
     "title": ""
    }
   },
   "outputs": [],
   "source": [
    "def create_LoadTime(df):\n",
    "    from pyspark.sql.functions import current_timestamp\n",
    "    print('Creating Load Time column : ',end='')\n",
    "    df_timestamp = df.withColumn('Load_Time',\n",
    "                      current_timestamp()\n",
    "                      )\n",
    "    print('Success!!')\n",
    "    print('**************')\n",
    "    return df_timestamp"
   ]
  },
  {
   "cell_type": "markdown",
   "metadata": {
    "application/vnd.databricks.v1+cell": {
     "cellMetadata": {},
     "inputWidgets": {},
     "nuid": "cf7c057e-d4b4-4b12-a5d8-597e0c99c064",
     "showTitle": false,
     "tableResultSettingsMap": {},
     "title": ""
    }
   },
   "source": [
    "### Writing Data to Gold Traffic"
   ]
  },
  {
   "cell_type": "code",
   "execution_count": 0,
   "metadata": {
    "application/vnd.databricks.v1+cell": {
     "cellMetadata": {
      "byteLimit": 2048000,
      "rowLimit": 10000
     },
     "inputWidgets": {},
     "nuid": "6a08c680-f12e-4ab0-b7ab-20a61980fde2",
     "showTitle": false,
     "tableResultSettingsMap": {},
     "title": ""
    }
   },
   "outputs": [],
   "source": [
    "def write_Traffic_GoldTable(StreamingDF,environment):\n",
    "    print('Writing the gold_traffic Data : ',end='') \n",
    "\n",
    "    write_gold_traffic = (StreamingDF.writeStream\n",
    "                .format('delta')\n",
    "                .option('checkpointLocation',checkpoint+ \"GoldTrafficLoad/Checkpt/\")\n",
    "                .outputMode('append')\n",
    "                .queryName(\"GoldTrafficWriteStream\")\n",
    "                .trigger(availableNow=True)\n",
    "                .toTable(f\"`{environment}-catalog`.`gold`.`gold_traffic`\"))\n",
    "    \n",
    "    write_gold_traffic.awaitTermination()\n",
    "    print(f'Writing `{environment}-catalog`.`gold`.`gold_traffic` Success!')"
   ]
  },
  {
   "cell_type": "markdown",
   "metadata": {
    "application/vnd.databricks.v1+cell": {
     "cellMetadata": {},
     "inputWidgets": {},
     "nuid": "251638f8-b941-4a38-94db-15c3c756d38a",
     "showTitle": false,
     "tableResultSettingsMap": {},
     "title": ""
    }
   },
   "source": [
    "### Writing Data to Gold Roads"
   ]
  },
  {
   "cell_type": "code",
   "execution_count": 0,
   "metadata": {
    "application/vnd.databricks.v1+cell": {
     "cellMetadata": {
      "byteLimit": 2048000,
      "rowLimit": 10000
     },
     "inputWidgets": {},
     "nuid": "32ce03b4-04c4-47e7-8bdd-11a465fb0b3b",
     "showTitle": false,
     "tableResultSettingsMap": {},
     "title": ""
    }
   },
   "outputs": [],
   "source": [
    "def write_Roads_GoldTable(StreamingDF,environment):\n",
    "    print('Writing the gold_roads Data : ',end='') \n",
    "\n",
    "    write_gold_roads = (StreamingDF.writeStream\n",
    "                .format('delta')\n",
    "                .option('checkpointLocation',checkpoint+ \"GoldRoadsLoad/Checkpt/\")\n",
    "                .outputMode('append')\n",
    "                .queryName(\"GoldRoadsWriteStream\")\n",
    "                .trigger(availableNow=True)\n",
    "                .toTable(f\"`{environment}-catalog`.`gold`.`gold_roads`\"))\n",
    "    \n",
    "    write_gold_roads.awaitTermination()\n",
    "    print(f'Writing `{environment}-catalog`.`gold`.`gold_roads` Success!')"
   ]
  },
  {
   "cell_type": "code",
   "execution_count": 0,
   "metadata": {
    "application/vnd.databricks.v1+cell": {
     "cellMetadata": {
      "byteLimit": 2048000,
      "rowLimit": 10000
     },
     "inputWidgets": {},
     "nuid": "14a1029a-9aa4-469e-b1af-86ac8569bbbe",
     "showTitle": false,
     "tableResultSettingsMap": {},
     "title": ""
    }
   },
   "outputs": [],
   "source": [
    "## Reading from Silver tables\n",
    "df_SilverTraffic = read_SilverTrafficTable(env)\n",
    "df_SilverRoads = read_SilverRoadsTable(env)\n",
    "    \n",
    "## Tranformations     \n",
    "df_vehicle = create_VehicleIntensity(df_SilverTraffic)\n",
    "df_FinalTraffic = create_LoadTime(df_vehicle)\n",
    "df_FinalRoads = create_LoadTime(df_SilverRoads)\n",
    "\n",
    "\n",
    "## Writing to gold tables    \n",
    "write_Traffic_GoldTable(df_FinalTraffic,env)\n",
    "write_Roads_GoldTable(df_FinalRoads,env)"
   ]
  },
  {
   "cell_type": "code",
   "execution_count": 0,
   "metadata": {
    "application/vnd.databricks.v1+cell": {
     "cellMetadata": {
      "byteLimit": 2048000,
      "implicitDf": true,
      "rowLimit": 10000
     },
     "inputWidgets": {},
     "nuid": "779a86f1-03b8-47ec-a645-895ba4b26260",
     "showTitle": false,
     "tableResultSettingsMap": {},
     "title": ""
    }
   },
   "outputs": [],
   "source": [
    "%sql\n",
    "SELECT * FROM `dev-catalog`.gold.gold_roads LIMIT 10"
   ]
  }
 ],
 "metadata": {
  "application/vnd.databricks.v1+notebook": {
   "computePreferences": null,
   "dashboards": [],
   "environmentMetadata": {
    "base_environment": "",
    "environment_version": "3"
   },
   "inputWidgetPreferences": null,
   "language": "python",
   "notebookMetadata": {
    "mostRecentlyExecutedCommandWithImplicitDF": {
     "commandId": 5745965204806404,
     "dataframes": [
      "_sqldf"
     ]
    },
    "pythonIndentUnit": 4
   },
   "notebookName": "06_SilverToGoldTransformation",
   "widgets": {
    "env": {
     "currentValue": "dev",
     "nuid": "9711d3cb-4a0a-4095-acef-3129a59b71c7",
     "typedWidgetInfo": {
      "autoCreated": false,
      "defaultValue": "",
      "label": "Enter the environment in lower case",
      "name": "env",
      "options": {
       "widgetDisplayType": "Text",
       "validationRegex": null
      },
      "parameterDataType": "String"
     },
     "widgetInfo": {
      "widgetType": "text",
      "defaultValue": "",
      "label": "Enter the environment in lower case",
      "name": "env",
      "options": {
       "widgetType": "text",
       "autoCreated": null,
       "validationRegex": null
      }
     }
    }
   }
  },
  "language_info": {
   "name": "python"
  }
 },
 "nbformat": 4,
 "nbformat_minor": 0
}
